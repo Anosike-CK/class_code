{
 "cells": [
  {
   "cell_type": "code",
   "execution_count": 1,
   "metadata": {},
   "outputs": [],
   "source": [
    "import numpy as np"
   ]
  },
  {
   "cell_type": "code",
   "execution_count": 15,
   "metadata": {},
   "outputs": [
    {
     "name": "stdout",
     "output_type": "stream",
     "text": [
      "[1 1 1 1 1 1 1 1 1 1 1 1 1 1 1 1 1 1 1 1 1 1 1 1 1 1 1 1 1 1 1 1 1 1 1 1 1\n",
      " 1 1 1 1 1 1 1 1 1 1 1 1 1]\n"
     ]
    },
    {
     "data": {
      "text/plain": [
       "20.000000002040817"
      ]
     },
     "execution_count": 15,
     "metadata": {},
     "output_type": "execute_result"
    }
   ],
   "source": [
    "x = np.ones(50,dtype=np.int16)\n",
    "print(x)\n"
   ]
  },
  {
   "cell_type": "code",
   "execution_count": 29,
   "metadata": {},
   "outputs": [
    {
     "name": "stdout",
     "output_type": "stream",
     "text": [
      "[ 1.       1.38776  1.77551  2.16327  2.55102  2.93878  3.32653  3.71429\n",
      "  4.10204  4.4898   4.87755  5.26531  5.65306  6.04082  6.42857  6.81633\n",
      "  7.20408  7.59184  7.97959  8.36735  8.7551   9.14286  9.53061  9.91837\n",
      " 10.30612 10.69388 11.08163 11.46939 11.85714 12.2449  12.63265 13.02041\n",
      " 13.40816 13.79592 14.18367 14.57143 14.95918 15.34694 15.73469 16.12245\n",
      " 16.5102  16.89796 17.28571 17.67347 18.06122 18.44898 18.83673 19.22449\n",
      " 19.61224 20.     ]\n"
     ]
    },
    {
     "data": {
      "text/plain": [
       "50"
      ]
     },
     "execution_count": 29,
     "metadata": {},
     "output_type": "execute_result"
    }
   ],
   "source": [
    "y = []\n",
    "i = 1\n",
    "# while len(y) < 50:\n",
    "interval= 19/49\n",
    "\n",
    "while round(i,5) <= 20:\n",
    "    y.append(round(i,5))\n",
    "    i += interval\n",
    "    \n",
    "y = np.array(y)\n",
    "print(y)\n",
    "len(y)"
   ]
  },
  {
   "cell_type": "code",
   "execution_count": 30,
   "metadata": {},
   "outputs": [
    {
     "name": "stdout",
     "output_type": "stream",
     "text": [
      "[ 1.          1.3877551   1.7755102   2.16326531  2.55102041  2.93877551\n",
      "  3.32653061  3.71428571  4.10204082  4.48979592  4.87755102  5.26530612\n",
      "  5.65306122  6.04081633  6.42857143  6.81632653  7.20408163  7.59183673\n",
      "  7.97959184  8.36734694  8.75510204  9.14285714  9.53061224  9.91836735\n",
      " 10.30612245 10.69387755 11.08163265 11.46938776 11.85714286 12.24489796\n",
      " 12.63265306 13.02040816 13.40816327 13.79591837 14.18367347 14.57142857\n",
      " 14.95918367 15.34693878 15.73469388 16.12244898 16.51020408 16.89795918\n",
      " 17.28571429 17.67346939 18.06122449 18.44897959 18.83673469 19.2244898\n",
      " 19.6122449  20.        ]\n"
     ]
    }
   ],
   "source": [
    "z = np.linspace(1,20,50)\n",
    "print(z)"
   ]
  },
  {
   "cell_type": "code",
   "execution_count": 36,
   "metadata": {},
   "outputs": [
    {
     "data": {
      "text/plain": [
       "0.00012244897958213485"
      ]
     },
     "execution_count": 36,
     "metadata": {},
     "output_type": "execute_result"
    }
   ],
   "source": [
    "w = np.sum(abs(z - y))\n",
    "w"
   ]
  },
  {
   "cell_type": "code",
   "execution_count": 35,
   "metadata": {},
   "outputs": [
    {
     "data": {
      "text/plain": [
       "0.00012244897958213485"
      ]
     },
     "execution_count": 35,
     "metadata": {},
     "output_type": "execute_result"
    }
   ],
   "source": [
    "sum(w)"
   ]
  },
  {
   "cell_type": "markdown",
   "metadata": {},
   "source": [
    "# For question 2"
   ]
  },
  {
   "cell_type": "code",
   "execution_count": 38,
   "metadata": {},
   "outputs": [],
   "source": [
    "import numpy as np\n",
    "import random"
   ]
  },
  {
   "cell_type": "code",
   "execution_count": 40,
   "metadata": {},
   "outputs": [
    {
     "name": "stdout",
     "output_type": "stream",
     "text": [
      "9\n",
      "5\n",
      "9\n",
      "3\n",
      "4\n",
      "8\n",
      "9\n",
      "10\n",
      "9\n",
      "7\n",
      "[ 1.  9.  5.  9.  3.  4.  8.  9. 10.  9.  7.]\n",
      "The number of elements in M is 11 and their mean value = 6.7272727272727275\n"
     ]
    }
   ],
   "source": [
    "M = np.ones(1)\n",
    "np.array(M)\n",
    "i = 0\n",
    "while M[-1] != 7:\n",
    "    \n",
    "    rand_val = random.randint(1,10)\n",
    "    print(rand_val)\n",
    "    M = np.append( [M],rand_val)\n",
    "    i+=1\n",
    "    if i == 30:\n",
    "        \n",
    "        break\n",
    "# print(i)\n",
    "print(M)\n",
    "mean_M = sum(M)/len(M)\n",
    "print('The number of elements in M is {} and their mean value = {}'.format(len(M), mean_M))"
   ]
  },
  {
   "cell_type": "markdown",
   "metadata": {},
   "source": [
    "# For question 3"
   ]
  },
  {
   "cell_type": "code",
   "execution_count": 44,
   "metadata": {
    "scrolled": true
   },
   "outputs": [
    {
     "name": "stdout",
     "output_type": "stream",
     "text": [
      "[[ 8.  3. 10.  8.  2.]\n",
      " [ 2. 10. 10.  5. 10.]\n",
      " [ 2. 10.  9. 10.  9.]\n",
      " [ 4.  2.  8.  7.  4.]\n",
      " [ 1.  4.  5.  6.  6.]]\n"
     ]
    }
   ],
   "source": [
    "a = np.array([  8.,3.,10.,8.,2.,2.,10.,10.,5.,10.,2.,10.,9.,10.,9.,4.,2.,8.,7.,4.,1.,4.,5.,6.,6.])\n",
    "reshaped_a = a.reshape(5,5)\n",
    "print(reshaped_a)"
   ]
  },
  {
   "cell_type": "code",
   "execution_count": 48,
   "metadata": {},
   "outputs": [
    {
     "name": "stdout",
     "output_type": "stream",
     "text": [
      "8.0 [(0, 0), (0, 3), (3, 2)]\n",
      "8.0 [(0, 0), (0, 3), (3, 2)]\n",
      "5.0 [(1, 3), (4, 2)]\n",
      "8.0 [(0, 0), (0, 3), (3, 2)]\n",
      "you win\n",
      "5.0 [(1, 3), (4, 2)]\n",
      "\"The number of 5's and 8's = 5\n"
     ]
    }
   ],
   "source": [
    "k = 0\n",
    "for elements in reshaped_a.flat:\n",
    "    \n",
    "    if elements == 5 or elements == 8:\n",
    "        \n",
    "        element_index = np.where(reshaped_a == elements)\n",
    "        locations = list(zip(element_index[0], element_index[1]))\n",
    "#         for location in locations:\n",
    "            \n",
    "        print(elements, locations)\n",
    "        k += 1\n",
    "    if elements == 1:\n",
    "        \n",
    "        print('you win')\n",
    "        \n",
    "print(\"\"\"\"The number of 5's and 8's = {}\"\"\".format(k))"
   ]
  },
  {
   "cell_type": "markdown",
   "metadata": {},
   "source": [
    "# For question 4"
   ]
  },
  {
   "cell_type": "code",
   "execution_count": 8,
   "metadata": {},
   "outputs": [
    {
     "data": {
      "text/plain": [
       "array([[1, 2, 3],\n",
       "       [4, 5, 6],\n",
       "       [7, 8, 9]])"
      ]
     },
     "execution_count": 8,
     "metadata": {},
     "output_type": "execute_result"
    }
   ],
   "source": [
    "A = np.arange(1,10).reshape(3,3)\n",
    "A"
   ]
  },
  {
   "cell_type": "code",
   "execution_count": 10,
   "metadata": {},
   "outputs": [
    {
     "data": {
      "text/plain": [
       "array([[1],\n",
       "       [3],\n",
       "       [4]])"
      ]
     },
     "execution_count": 10,
     "metadata": {},
     "output_type": "execute_result"
    }
   ],
   "source": [
    "x = np.array([1,3,4]).reshape(3,1)\n",
    "x"
   ]
  },
  {
   "cell_type": "code",
   "execution_count": 45,
   "metadata": {},
   "outputs": [
    {
     "data": {
      "text/plain": [
       "array([[-0.1, -0.2, -0.3],\n",
       "       [ 3. , 10. ,  2. ],\n",
       "       [ 4. ,  2. ,  0.5]])"
      ]
     },
     "execution_count": 45,
     "metadata": {},
     "output_type": "execute_result"
    }
   ],
   "source": [
    "B = np.array([(-0.1,-0.2,-0.3),(3,10,2),(4,2,0.5)]).reshape(3,3)\n",
    "B"
   ]
  },
  {
   "cell_type": "code",
   "execution_count": 46,
   "metadata": {},
   "outputs": [
    {
     "data": {
      "text/plain": [
       "array([[-0.1, -0.4, -0.9],\n",
       "       [12. , 50. , 12. ],\n",
       "       [28. , 16. ,  4.5]])"
      ]
     },
     "execution_count": 46,
     "metadata": {},
     "output_type": "execute_result"
    }
   ],
   "source": [
    "A_B = A * B\n",
    "A_B"
   ]
  },
  {
   "cell_type": "code",
   "execution_count": 62,
   "metadata": {},
   "outputs": [
    {
     "data": {
      "text/plain": [
       "array([[17.9, 25.8,  5.2],\n",
       "       [38.6, 61.2, 11.8],\n",
       "       [59.3, 96.6, 18.4]])"
      ]
     },
     "execution_count": 62,
     "metadata": {},
     "output_type": "execute_result"
    }
   ],
   "source": [
    "A__B = np.dot(A,B)\n",
    "A__B"
   ]
  },
  {
   "cell_type": "code",
   "execution_count": 63,
   "metadata": {},
   "outputs": [
    {
     "data": {
      "text/plain": [
       "array([[ 1.11022302e-16, -5.55111512e-17,  0.00000000e+00],\n",
       "       [-5.00000000e+01,  1.00000000e+01,  2.50000000e+01],\n",
       "       [-1.40000000e+01,  3.25000000e+01, -1.80000000e+01]])"
      ]
     },
     "execution_count": 63,
     "metadata": {},
     "output_type": "execute_result"
    }
   ],
   "source": [
    "np.cross(A,B)"
   ]
  },
  {
   "cell_type": "code",
   "execution_count": null,
   "metadata": {},
   "outputs": [],
   "source": []
  }
 ],
 "metadata": {
  "kernelspec": {
   "display_name": "Python 3",
   "language": "python",
   "name": "python3"
  },
  "language_info": {
   "codemirror_mode": {
    "name": "ipython",
    "version": 3
   },
   "file_extension": ".py",
   "mimetype": "text/x-python",
   "name": "python",
   "nbconvert_exporter": "python",
   "pygments_lexer": "ipython3",
   "version": "3.7.3"
  }
 },
 "nbformat": 4,
 "nbformat_minor": 2
}
